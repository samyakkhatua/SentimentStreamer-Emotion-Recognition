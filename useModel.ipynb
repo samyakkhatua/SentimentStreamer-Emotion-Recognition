{
 "cells": [
  {
   "cell_type": "code",
   "execution_count": 13,
   "metadata": {},
   "outputs": [
    {
     "name": "stderr",
     "output_type": "stream",
     "text": [
      "WARNING:absl:Compiled the loaded model, but the compiled metrics have yet to be built. `model.compile_metrics` will be empty until you train or evaluate the model.\n",
      "WARNING:absl:Error in loading the saved optimizer state. As a result, your model is starting with a freshly initialized optimizer.\n"
     ]
    }
   ],
   "source": [
    "from tensorflow import keras\n",
    "\n",
    "# Load the model\n",
    "model = keras.models.load_model('savedModel/facialemotionmodel.h5')\n"
   ]
  },
  {
   "cell_type": "code",
   "execution_count": 14,
   "metadata": {},
   "outputs": [],
   "source": [
    "import cv2\n",
    "\n",
    "def prepare_image(image_path):\n",
    "    img = cv2.imread(image_path)\n",
    "    img = cv2.cvtColor(img, cv2.COLOR_BGR2GRAY)  # Convert to grayscale\n",
    "    img = cv2.resize(img, (48, 48))  # Resize image to 48x48 (if that's the model input size)\n",
    "    img = img / 255.0  # Scale pixel values to 0-1\n",
    "    img = img.reshape(1, 48, 48, 1)  # Reshape for the model (assuming it expects these dimensions)\n",
    "    return img"
   ]
  },
  {
   "cell_type": "code",
   "execution_count": 15,
   "metadata": {},
   "outputs": [],
   "source": [
    "def predict_emotion(image_path):\n",
    "    img = prepare_image(image_path)\n",
    "    prediction = model.predict(img)\n",
    "    return prediction"
   ]
  },
  {
   "cell_type": "code",
   "execution_count": 16,
   "metadata": {},
   "outputs": [],
   "source": [
    "def interpret_prediction(prediction):\n",
    "    # Assuming your model outputs probabilities for each class\n",
    "    emotions = ['angry','disgust','fear','happy','neutral','sad','surprise']\n",
    "    max_index = prediction.argmax()\n",
    "    return emotions[max_index]"
   ]
  },
  {
   "cell_type": "code",
   "execution_count": 22,
   "metadata": {},
   "outputs": [
    {
     "name": "stdout",
     "output_type": "stream",
     "text": [
      "\u001b[1m1/1\u001b[0m \u001b[32m━━━━━━━━━━━━━━━━━━━━\u001b[0m\u001b[37m\u001b[0m \u001b[1m0s\u001b[0m 182ms/step\n",
      "Detected emotion: sad\n"
     ]
    }
   ],
   "source": [
    "def detect_emotion(image_path):\n",
    "    prediction = predict_emotion(image_path)\n",
    "    emotion = interpret_prediction(prediction[0])\n",
    "    print(f\"Detected emotion: {emotion}\")\n",
    "\n",
    "\n",
    "# Example usage:\n",
    "detect_emotion('/Users/samyakkhatua/Developer/SDP/SentimentStreamer-Emotion-Recognition/images/test/disgust/4002.jpg')\n"
   ]
  }
 ],
 "metadata": {
  "kernelspec": {
   "display_name": "Python 3",
   "language": "python",
   "name": "python3"
  },
  "language_info": {
   "codemirror_mode": {
    "name": "ipython",
    "version": 3
   },
   "file_extension": ".py",
   "mimetype": "text/x-python",
   "name": "python",
   "nbconvert_exporter": "python",
   "pygments_lexer": "ipython3",
   "version": "3.11.5"
  }
 },
 "nbformat": 4,
 "nbformat_minor": 2
}
